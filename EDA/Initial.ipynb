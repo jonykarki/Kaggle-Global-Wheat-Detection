{
 "cells": [
  {
   "cell_type": "code",
   "execution_count": 2,
   "metadata": {},
   "outputs": [],
   "source": [
    "import sys, os\n",
    "if os.path.abspath(os.pardir) not in sys.path:\n",
    "    sys.path.insert(1, os.path.abspath(os.pardir))\n",
    "import CONFIG\n",
    "\n",
    "%reload_ext autoreload\n",
    "%autoreload 2"
   ]
  },
  {
   "cell_type": "code",
   "execution_count": 11,
   "metadata": {
    "tags": []
   },
   "outputs": [],
   "source": [
    "import numpy as np\n",
    "import pandas as pd\n",
    "\n",
    "from glob import glob\n",
    "from pathlib import Path\n",
    "from PIL import Image\n",
    "import cv2\n",
    "\n",
    "import matplotlib.pyplot as plt \n",
    "import matplotlib.patches as patches \n",
    "import seaborn as sns\n",
    "\n",
    "from bokeh.plotting import figure\n",
    "from bokeh.io import output_notebook, output_file\n",
    "from bokeh.models import ColumnDataSource, HoverTool, Panel\n",
    "\n",
    "import albumentations as albu"
   ]
  },
  {
   "cell_type": "code",
   "execution_count": 4,
   "metadata": {
    "tags": []
   },
   "outputs": [
    {
     "output_type": "stream",
     "name": "stdout",
     "text": "/content/data/train\n"
    }
   ],
   "source": [
    "INPUT_DIR = CONFIG.CFG.DATA.BASE"
   ]
  },
  {
   "cell_type": "code",
   "execution_count": 8,
   "metadata": {},
   "outputs": [
    {
     "output_type": "execute_result",
     "data": {
      "text/plain": "(3422, 10)"
     },
     "metadata": {},
     "execution_count": 8
    }
   ],
   "source": [
    "train_imgs = glob(os.path.join(INPUT_DIR, \"train\", \"*\"))\n",
    "test_imgs = glob(os.path.join(INPUT_DIR, \"test\", \"*\"))\n",
    "\n",
    "len(train_imgs), len(test_imgs)"
   ]
  },
  {
   "cell_type": "code",
   "execution_count": 6,
   "metadata": {},
   "outputs": [
    {
     "output_type": "execute_result",
     "data": {
      "text/html": "<div>\n<style scoped>\n    .dataframe tbody tr th:only-of-type {\n        vertical-align: middle;\n    }\n\n    .dataframe tbody tr th {\n        vertical-align: top;\n    }\n\n    .dataframe thead th {\n        text-align: right;\n    }\n</style>\n<table border=\"1\" class=\"dataframe\">\n  <thead>\n    <tr style=\"text-align: right;\">\n      <th></th>\n      <th>image_id</th>\n      <th>width</th>\n      <th>height</th>\n      <th>bbox</th>\n      <th>source</th>\n    </tr>\n  </thead>\n  <tbody>\n    <tr>\n      <th>0</th>\n      <td>b6ab77fd7</td>\n      <td>1024</td>\n      <td>1024</td>\n      <td>[834.0, 222.0, 56.0, 36.0]</td>\n      <td>usask_1</td>\n    </tr>\n    <tr>\n      <th>1</th>\n      <td>b6ab77fd7</td>\n      <td>1024</td>\n      <td>1024</td>\n      <td>[226.0, 548.0, 130.0, 58.0]</td>\n      <td>usask_1</td>\n    </tr>\n    <tr>\n      <th>2</th>\n      <td>b6ab77fd7</td>\n      <td>1024</td>\n      <td>1024</td>\n      <td>[377.0, 504.0, 74.0, 160.0]</td>\n      <td>usask_1</td>\n    </tr>\n    <tr>\n      <th>3</th>\n      <td>b6ab77fd7</td>\n      <td>1024</td>\n      <td>1024</td>\n      <td>[834.0, 95.0, 109.0, 107.0]</td>\n      <td>usask_1</td>\n    </tr>\n    <tr>\n      <th>4</th>\n      <td>b6ab77fd7</td>\n      <td>1024</td>\n      <td>1024</td>\n      <td>[26.0, 144.0, 124.0, 117.0]</td>\n      <td>usask_1</td>\n    </tr>\n  </tbody>\n</table>\n</div>",
      "text/plain": "    image_id  width  height                         bbox   source\n0  b6ab77fd7   1024    1024   [834.0, 222.0, 56.0, 36.0]  usask_1\n1  b6ab77fd7   1024    1024  [226.0, 548.0, 130.0, 58.0]  usask_1\n2  b6ab77fd7   1024    1024  [377.0, 504.0, 74.0, 160.0]  usask_1\n3  b6ab77fd7   1024    1024  [834.0, 95.0, 109.0, 107.0]  usask_1\n4  b6ab77fd7   1024    1024  [26.0, 144.0, 124.0, 117.0]  usask_1"
     },
     "metadata": {},
     "execution_count": 6
    }
   ],
   "source": [
    "train_df = pd.read_csv(os.path.join(INPUT_DIR, \"train.csv\"))\n",
    "train_df.head()"
   ]
  },
  {
   "cell_type": "code",
   "execution_count": 17,
   "metadata": {},
   "outputs": [
    {
     "output_type": "execute_result",
     "data": {
      "text/html": "<div>\n<style scoped>\n    .dataframe tbody tr th:only-of-type {\n        vertical-align: middle;\n    }\n\n    .dataframe tbody tr th {\n        vertical-align: top;\n    }\n\n    .dataframe thead th {\n        text-align: right;\n    }\n</style>\n<table border=\"1\" class=\"dataframe\">\n  <thead>\n    <tr style=\"text-align: right;\">\n      <th></th>\n      <th>image_id</th>\n      <th>width</th>\n      <th>height</th>\n      <th>bbox</th>\n      <th>source</th>\n      <th>bbox_xmin</th>\n      <th>bbox_ymin</th>\n      <th>bbox_width</th>\n      <th>bbox_height</th>\n    </tr>\n  </thead>\n  <tbody>\n    <tr>\n      <th>0</th>\n      <td>9e15ceea4</td>\n      <td>1024.0</td>\n      <td>1024.0</td>\n      <td>[44, 256, 65, 73]</td>\n      <td>arvalis_1</td>\n      <td>44.0</td>\n      <td>256.0</td>\n      <td>65.0</td>\n      <td>73.0</td>\n    </tr>\n    <tr>\n      <th>1</th>\n      <td>9e15ceea4</td>\n      <td>1024.0</td>\n      <td>1024.0</td>\n      <td>[40, 92, 60, 109]</td>\n      <td>arvalis_1</td>\n      <td>40.0</td>\n      <td>92.0</td>\n      <td>60.0</td>\n      <td>109.0</td>\n    </tr>\n    <tr>\n      <th>2</th>\n      <td>9e15ceea4</td>\n      <td>1024.0</td>\n      <td>1024.0</td>\n      <td>[97, 77, 81, 121]</td>\n      <td>arvalis_1</td>\n      <td>97.0</td>\n      <td>77.0</td>\n      <td>81.0</td>\n      <td>121.0</td>\n    </tr>\n    <tr>\n      <th>3</th>\n      <td>9e15ceea4</td>\n      <td>1024.0</td>\n      <td>1024.0</td>\n      <td>[33, 22, 53, 64]</td>\n      <td>arvalis_1</td>\n      <td>33.0</td>\n      <td>22.0</td>\n      <td>53.0</td>\n      <td>64.0</td>\n    </tr>\n    <tr>\n      <th>4</th>\n      <td>9e15ceea4</td>\n      <td>1024.0</td>\n      <td>1024.0</td>\n      <td>[98, 8, 62, 81]</td>\n      <td>arvalis_1</td>\n      <td>98.0</td>\n      <td>8.0</td>\n      <td>62.0</td>\n      <td>81.0</td>\n    </tr>\n  </tbody>\n</table>\n</div>",
      "text/plain": "    image_id   width  height  ... bbox_ymin bbox_width  bbox_height\n0  9e15ceea4  1024.0  1024.0  ...     256.0       65.0         73.0\n1  9e15ceea4  1024.0  1024.0  ...      92.0       60.0        109.0\n2  9e15ceea4  1024.0  1024.0  ...      77.0       81.0        121.0\n3  9e15ceea4  1024.0  1024.0  ...      22.0       53.0         64.0\n4  9e15ceea4  1024.0  1024.0  ...       8.0       62.0         81.0\n\n[5 rows x 9 columns]"
     },
     "metadata": {},
     "execution_count": 17
    }
   ],
   "source": [
    "all_train_images = pd.DataFrame([Path(path).stem for path in train_imgs], columns=['image_id'])\n",
    "\n",
    "all_train_images = all_train_images.merge(train_df, on='image_id', how='left')\n",
    "\n",
    "all_train_images['bbox'] = all_train_images.bbox.fillna('[0, 0, 0, 0]')\n",
    "\n",
    "# split bbox column\n",
    "bbox_items = all_train_images.bbox.str.split(',', expand=True)\n",
    "all_train_images['bbox_xmin'] = bbox_items[0].str.strip('[ ').astype(float)\n",
    "all_train_images['bbox_ymin'] = bbox_items[1].str.strip(' ').astype(float)\n",
    "all_train_images['bbox_width'] = bbox_items[2].str.strip(' ').astype(float)\n",
    "all_train_images['bbox_height'] = bbox_items[3].str.strip(' ]').astype(float)\n",
    "all_train_images.head()"
   ]
  },
  {
   "cell_type": "code",
   "execution_count": 27,
   "metadata": {},
   "outputs": [
    {
     "output_type": "execute_result",
     "data": {
      "text/plain": "49"
     },
     "metadata": {},
     "execution_count": 27
    }
   ],
   "source": [
    "# images without head\n",
    "len(all_train_images) - len(train_df)"
   ]
  },
  {
   "cell_type": "code",
   "execution_count": 28,
   "metadata": {},
   "outputs": [],
   "source": [
    "def get_all_boxes(df, image_id):\n",
    "    image_bboxes = df[df.image_id == image_id]\n",
    "\n",
    "    bboxes = []\n",
    "    for _, row in image_bboxes.iterrows():\n",
    "        bboxes.append((row.bbox_xmin, row.bbox_ymin, row.bbox_width, row.bbox_height))\n",
    "\n",
    "    return bboxes"
   ]
  },
  {
   "cell_type": "code",
   "execution_count": null,
   "metadata": {},
   "outputs": [],
   "source": [
    "def plot_image_examples(df, rows=3, cols=3, title=\"Image examples\"):\n",
    "    fig, axs = plt.subplots(rows, cols, figsize=(10, 10))\n",
    "    for row in range(rows):\n",
    "        for col in range(cols):\n",
    "            idx = np.random.randint(len(df), size=1)[0]"
   ]
  }
 ],
 "metadata": {
  "language_info": {
   "codemirror_mode": {
    "name": "ipython",
    "version": 3
   },
   "file_extension": ".py",
   "mimetype": "text/x-python",
   "name": "python",
   "nbconvert_exporter": "python",
   "pygments_lexer": "ipython3",
   "version": "3.6.9-final"
  },
  "orig_nbformat": 2,
  "kernelspec": {
   "name": "python3",
   "display_name": "Python 3"
  }
 },
 "nbformat": 4,
 "nbformat_minor": 2
}