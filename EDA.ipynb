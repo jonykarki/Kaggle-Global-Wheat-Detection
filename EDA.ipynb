{
 "cells": [
  {
   "cell_type": "code",
   "execution_count": null,
   "metadata": {},
   "outputs": [],
   "source": [
    "import sys, os\n",
    "if os.path.abspath(os.pardir) not in sys.path:\n",
    "    sys.path.insert(1, os.path.abspath(os.pardir))\n",
    "import CONFIG\n",
    "\n",
    "%reload_ext autoreload\n",
    "%autoreload 2"
   ]
  },
  {
   "cell_type": "code",
   "execution_count": null,
   "metadata": {
    "tags": []
   },
   "outputs": [],
   "source": [
    "import numpy as np\n",
    "import pandas as pd\n",
    "\n",
    "from glob import glob\n",
    "from pathlib import Path\n",
    "from PIL import Image\n",
    "import cv2\n",
    "\n",
    "import matplotlib.pyplot as plt \n",
    "import matplotlib.patches as patches \n",
    "import seaborn as sns\n",
    "\n",
    "from bokeh.plotting import figure\n",
    "from bokeh.io import output_notebook, output_file\n",
    "from bokeh.models import ColumnDataSource, HoverTool, Panel\n",
    "\n",
    "import albumentations as albu"
   ]
  },
  {
   "cell_type": "code",
   "execution_count": null,
   "metadata": {
    "tags": []
   },
   "outputs": [],
   "source": [
    "INPUT_DIR = CONFIG.CFG.DATA.BASE"
   ]
  },
  {
   "cell_type": "code",
   "execution_count": null,
   "metadata": {},
   "outputs": [],
   "source": [
    "train_imgs = glob(os.path.join(INPUT_DIR, \"train\", \"*\"))\n",
    "test_imgs = glob(os.path.join(INPUT_DIR, \"test\", \"*\"))\n",
    "\n",
    "len(train_imgs), len(test_imgs)"
   ]
  },
  {
   "cell_type": "code",
   "execution_count": null,
   "metadata": {},
   "outputs": [],
   "source": [
    "train_df = pd.read_csv(os.path.join(INPUT_DIR, \"train.csv\"))\n",
    "train_df.head()"
   ]
  },
  {
   "cell_type": "code",
   "execution_count": null,
   "metadata": {},
   "outputs": [],
   "source": [
    "all_train_images = pd.DataFrame([Path(path).stem for path in train_imgs], columns=['image_id'])\n",
    "\n",
    "all_train_images = all_train_images.merge(train_df, on='image_id', how='left')\n",
    "\n",
    "all_train_images['bbox'] = all_train_images.bbox.fillna('[0, 0, 0, 0]')\n",
    "\n",
    "# split bbox column\n",
    "bbox_items = all_train_images.bbox.str.split(',', expand=True)\n",
    "all_train_images['bbox_xmin'] = bbox_items[0].str.strip('[ ').astype(float)\n",
    "all_train_images['bbox_ymin'] = bbox_items[1].str.strip(' ').astype(float)\n",
    "all_train_images['bbox_width'] = bbox_items[2].str.strip(' ').astype(float)\n",
    "all_train_images['bbox_height'] = bbox_items[3].str.strip(' ]').astype(float)\n",
    "all_train_images.head()"
   ]
  },
  {
   "cell_type": "code",
   "execution_count": null,
   "metadata": {},
   "outputs": [],
   "source": [
    "# images without head\n",
    "len(all_train_images) - len(train_df)"
   ]
  },
  {
   "cell_type": "code",
   "execution_count": null,
   "metadata": {},
   "outputs": [],
   "source": [
    "def get_all_boxes(df, image_id):\n",
    "    image_bboxes = df[df.image_id == image_id]\n",
    "\n",
    "    bboxes = []\n",
    "    for _, row in image_bboxes.iterrows():\n",
    "        bboxes.append((row.bbox_xmin, row.bbox_ymin, row.bbox_width, row.bbox_height))\n",
    "\n",
    "    return bboxes"
   ]
  },
  {
   "cell_type": "code",
   "execution_count": null,
   "metadata": {},
   "outputs": [],
   "source": [
    "def plot_image_examples(df, rows=3, cols=3, title=\"Image examples\"):\n",
    "    fig, axs = plt.subplots(rows, cols, figsize=(10, 10))\n",
    "    for row in range(rows):\n",
    "        for col in range(cols):\n",
    "            idx = np.random.randint(len(df), size=1)[0]\n",
    "            img_id = df.iloc[idx].image_id\n",
    "\n",
    "            img = Image.open(os.path.join(INPUT_DIR, \"train\", img_id + \".jpg\"))\n",
    "            axs[row, col].imshow(img)\n",
    "\n",
    "            bboxes = get_all_boxes(df, img_id)\n",
    "\n",
    "            for bbox in bboxes:\n",
    "                rect = patches.Rectangle((bbox[0], bbox[1]), bbox[2], bbox[3], linewidth=1, edgecolor='r', facecolor='none')\n",
    "                axs[row, col].add_patch(rect)\n",
    "            \n",
    "            axs[row, col].axis('off')\n",
    "\n",
    "    plt.suptitle(title)"
   ]
  },
  {
   "cell_type": "code",
   "execution_count": null,
   "metadata": {},
   "outputs": [],
   "source": [
    "plot_image_examples(all_train_images)"
   ]
  },
  {
   "cell_type": "code",
   "execution_count": null,
   "metadata": {},
   "outputs": [],
   "source": [
    "def get_image_brightness(image):\n",
    "    gray = cv2.cvtColor(image, cv2.COLOR_BGR2GRAY)\n",
    "    return np.array(gray).mean()\n",
    "\n",
    "def add_brightness(df):\n",
    "    brightness = []\n",
    "    for _, row in df.iterrows():\n",
    "        img_id = row.image_id\n",
    "        image = cv2.imread(os.path.join(INPUT_DIR, \"train\", img_id + \".jpg\"))\n",
    "        brightness.append(get_image_brightness(image))\n",
    "\n",
    "    brightness_df = pd.DataFrame(brightness, columns=['brightness'])\n",
    "    df = pd.concat([df, brightness_df], ignore_index=True, axis=1)\n",
    "    df.columns = ['image_id', 'brightness']\n",
    "\n",
    "    return df"
   ]
  },
  {
   "cell_type": "code",
   "execution_count": null,
   "metadata": {},
   "outputs": [],
   "source": [
    "images_df = pd.DataFrame(all_train_images.image_id.unique())\n",
    "images_df.columns = ['image_id']\n",
    "brightness_df = add_brightness(images_df)\n",
    "all_train_images = all_train_images.merge(brightness_df, on='image_id')"
   ]
  },
  {
   "cell_type": "code",
   "execution_count": null,
   "metadata": {},
   "outputs": [],
   "source": [
    "dark_ids = all_train_images[all_train_images['brightness'] < 30].image_id\n",
    "plot_image_examples(all_train_images[all_train_images.image_id.isin(dark_ids)])"
   ]
  },
  {
   "cell_type": "code",
   "execution_count": null,
   "metadata": {},
   "outputs": [],
   "source": [
    "bright_ids = all_train_images[all_train_images['brightness'] > 130].image_id\n",
    "plot_image_examples(all_train_images[all_train_images.image_id.isin(bright_ids)])"
   ]
  },
  {
   "cell_type": "code",
   "execution_count": null,
   "metadata": {},
   "outputs": [],
   "source": [
    "def get_percentage_of_green_pixels(image):\n",
    "    # convert to HSV\n",
    "    hsv = cv2.cvtColor(image, cv2.COLOR_BGR2HSV)\n",
    "    \n",
    "    # get the green mask\n",
    "    hsv_lower = (40, 40, 40) \n",
    "    hsv_higher = (70, 255, 255)\n",
    "    green_mask = cv2.inRange(hsv, hsv_lower, hsv_higher)\n",
    "    \n",
    "    return float(np.sum(green_mask)) / 255 / (1024 * 1024)\n",
    "\n",
    "def get_percentage_of_yellow_pixels(image):\n",
    "    # convert to HSV\n",
    "    hsv = cv2.cvtColor(image, cv2.COLOR_BGR2HSV)\n",
    "    \n",
    "    # get the green mask\n",
    "    hsv_lower = (25, 40, 40) \n",
    "    hsv_higher = (35, 255, 255)\n",
    "    yellow_mask = cv2.inRange(hsv, hsv_lower, hsv_higher)\n",
    "    \n",
    "    return float(np.sum(yellow_mask)) / 255 / (1024 * 1024)\n",
    "\n",
    "def add_green_pixels_percentage(df):\n",
    "    green = []\n",
    "    for _, row in df.iterrows():\n",
    "        img_id = row.image_id  \n",
    "        image = cv2.imread(os.path.join(INPUT_DIR, \"train\", img_id + '.jpg'))\n",
    "        green.append(get_percentage_of_green_pixels(image))\n",
    "        \n",
    "    green_df = pd.DataFrame(green)\n",
    "    green_df.columns = ['green_pixels']\n",
    "    df = pd.concat([df, green_df], ignore_index=True, axis=1)\n",
    "    df.columns = ['image_id', 'green_pixels']\n",
    "    \n",
    "    return df\n",
    "\n",
    "def add_yellow_pixels_percentage(df):\n",
    "    yellow = []\n",
    "    for _, row in df.iterrows():\n",
    "        img_id = row.image_id  \n",
    "        image = cv2.imread(os.path.join(INPUT_DIR, \"train\", img_id + '.jpg'))\n",
    "        yellow.append(get_percentage_of_yellow_pixels(image))\n",
    "        \n",
    "    yellow_df = pd.DataFrame(yellow)\n",
    "    yellow_df.columns = ['yellow_pixels']\n",
    "    df = pd.concat([df, yellow_df], ignore_index=True, axis=1)\n",
    "    df.columns = ['image_id', 'yellow_pixels']\n",
    "    \n",
    "    return df"
   ]
  },
  {
   "cell_type": "code",
   "execution_count": null,
   "metadata": {},
   "outputs": [],
   "source": [
    "# add a column with the percentage of green pixels\n",
    "green_pixels_df = add_green_pixels_percentage(images_df)\n",
    "all_train_images = all_train_images.merge(green_pixels_df, on='image_id')"
   ]
  },
  {
   "cell_type": "code",
   "execution_count": null,
   "metadata": {},
   "outputs": [],
   "source": [
    "transform = albu.Compose([\n",
    "    albu.RandomSizedBBoxSafeCrop(512, 512, erosion_rate=0.0, interpolation=1, p=1.0),\n",
    "    albu.HorizontalFlip(p=0.5),\n",
    "    albu.VerticalFlip(p=0.5),\n",
    "    albu.OneOf([\n",
    "            albu.RandomContrast(),\n",
    "            albu.RandomGamma(),\n",
    "            albu.RandomBrightness()\n",
    "        ], p=1.0)\n",
    "])"
   ]
  },
  {
   "cell_type": "code",
   "execution_count": null,
   "metadata": {},
   "outputs": [],
   "source": [
    "def apply_transforms(transforms, df, n_transforms=3):\n",
    "    idx = np.random.randint(len(df), size=1)[0]\n",
    "\n",
    "    image_id = df.iloc[idx].image_id\n",
    "    bboxes = []\n",
    "    for _, row in df[df.image_id == image_id].iterrows():\n",
    "        bboxes.append([row.bbox_xmin, row.bbox_ymin, row.bbox_width, row.bbox_height])\n",
    "\n",
    "    image = Image.open(os.path.join(INPUT_DIR, \"train\", image_id + \".jpg\"))\n",
    "\n",
    "    fig, axs = plt.subplots(1, n_transforms+1, figsize=(15,7))\n",
    "    \n",
    "    # plot the original image\n",
    "    axs[0].imshow(image)\n",
    "    axs[0].set_title('original')\n",
    "    for bbox in bboxes:\n",
    "        rect = patches.Rectangle((bbox[0],bbox[1]),bbox[2],bbox[3],linewidth=1,edgecolor='r',facecolor='none')\n",
    "        axs[0].add_patch(rect)\n",
    "\n",
    "    for i in range(n_transforms):\n",
    "        params = {'image': np.asarray(image),\n",
    "                  'bboxes': bboxes,\n",
    "                  'category_id': [1 for j in range(len(bboxes))]}\n",
    "        augmented_boxes = transforms(**params)\n",
    "        bboxes_aug = augmented_boxes['bboxes']\n",
    "        image_aug = augmented_boxes['image']\n",
    "\n",
    "        # plot the augmented image and augmented bounding boxes\n",
    "        axs[i+1].imshow(image_aug)\n",
    "        axs[i+1].set_title('augmented_' + str(i+1))\n",
    "        for bbox in bboxes_aug:\n",
    "            rect = patches.Rectangle((bbox[0],bbox[1]),bbox[2],bbox[3],linewidth=1,edgecolor='r',facecolor='none')\n",
    "            axs[i+1].add_patch(rect)\n",
    "    plt.show()"
   ]
  },
  {
   "cell_type": "code",
   "execution_count": null,
   "metadata": {},
   "outputs": [],
   "source": [
    "apply_transforms(transform, all_train_images, n_transforms=3)"
   ]
  },
  {
   "cell_type": "code",
   "execution_count": null,
   "metadata": {},
   "outputs": [],
   "source": []
  }
 ],
 "metadata": {
  "language_info": {
   "codemirror_mode": {
    "name": "ipython",
    "version": 3
   },
   "file_extension": ".py",
   "mimetype": "text/x-python",
   "name": "python",
   "nbconvert_exporter": "python",
   "pygments_lexer": "ipython3",
   "version": "3.6.9-final"
  },
  "orig_nbformat": 2,
  "kernelspec": {
   "name": "python3",
   "display_name": "Python 3"
  }
 },
 "nbformat": 4,
 "nbformat_minor": 2
}