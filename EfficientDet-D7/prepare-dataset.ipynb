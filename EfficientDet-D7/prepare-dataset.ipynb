{
 "cells": [
  {
   "cell_type": "code",
   "execution_count": 1,
   "metadata": {},
   "outputs": [],
   "source": [
    "import sys, os\n",
    "if os.path.abspath(os.pardir) not in sys.path:\n",
    "    sys.path.insert(0, os.path.abspath(os.pardir))\n",
    "import CONFIG\n",
    "\n",
    "%reload_ext autoreload\n",
    "%autoreload 2"
   ]
  },
  {
   "cell_type": "code",
   "execution_count": 4,
   "metadata": {},
   "outputs": [],
   "source": [
    "DATA_DIR = CONFIG.CFG.DATA.BASE"
   ]
  },
  {
   "cell_type": "code",
   "execution_count": 26,
   "metadata": {},
   "outputs": [],
   "source": [
    "import numpy as np\n",
    "import pandas as pd\n",
    "import json"
   ]
  },
  {
   "cell_type": "code",
   "execution_count": 13,
   "metadata": {},
   "outputs": [
    {
     "output_type": "execute_result",
     "data": {
      "text/html": "<div>\n<style scoped>\n    .dataframe tbody tr th:only-of-type {\n        vertical-align: middle;\n    }\n\n    .dataframe tbody tr th {\n        vertical-align: top;\n    }\n\n    .dataframe thead th {\n        text-align: right;\n    }\n</style>\n<table border=\"1\" class=\"dataframe\">\n  <thead>\n    <tr style=\"text-align: right;\">\n      <th></th>\n      <th>image_id</th>\n      <th>bbox_count</th>\n      <th>source</th>\n      <th>stratify_group</th>\n      <th>fold</th>\n    </tr>\n  </thead>\n  <tbody>\n    <tr>\n      <th>0</th>\n      <td>00333207f</td>\n      <td>55</td>\n      <td>arvalis_1</td>\n      <td>arvalis_1_3</td>\n      <td>1</td>\n    </tr>\n    <tr>\n      <th>1</th>\n      <td>005b0d8bb</td>\n      <td>20</td>\n      <td>usask_1</td>\n      <td>usask_1_1</td>\n      <td>3</td>\n    </tr>\n    <tr>\n      <th>2</th>\n      <td>006a994f7</td>\n      <td>25</td>\n      <td>inrae_1</td>\n      <td>inrae_1_1</td>\n      <td>1</td>\n    </tr>\n    <tr>\n      <th>3</th>\n      <td>00764ad5d</td>\n      <td>41</td>\n      <td>inrae_1</td>\n      <td>inrae_1_2</td>\n      <td>0</td>\n    </tr>\n    <tr>\n      <th>4</th>\n      <td>00b5fefed</td>\n      <td>25</td>\n      <td>arvalis_3</td>\n      <td>arvalis_3_1</td>\n      <td>3</td>\n    </tr>\n  </tbody>\n</table>\n</div>",
      "text/plain": "    image_id  bbox_count     source stratify_group  fold\n0  00333207f          55  arvalis_1    arvalis_1_3     1\n1  005b0d8bb          20    usask_1      usask_1_1     3\n2  006a994f7          25    inrae_1      inrae_1_1     1\n3  00764ad5d          41    inrae_1      inrae_1_2     0\n4  00b5fefed          25  arvalis_3    arvalis_3_1     3"
     },
     "metadata": {},
     "execution_count": 13
    }
   ],
   "source": [
    "train_df = pd.read_csv(os.path.join(DATA_DIR, \"train.csv\"))\n",
    "folds_df = pd.read_csv(\"folds.csv\")\n",
    "folds_df.head()"
   ]
  },
  {
   "cell_type": "code",
   "execution_count": 14,
   "metadata": {},
   "outputs": [
    {
     "output_type": "execute_result",
     "data": {
      "text/html": "<div>\n<style scoped>\n    .dataframe tbody tr th:only-of-type {\n        vertical-align: middle;\n    }\n\n    .dataframe tbody tr th {\n        vertical-align: top;\n    }\n\n    .dataframe thead th {\n        text-align: right;\n    }\n</style>\n<table border=\"1\" class=\"dataframe\">\n  <thead>\n    <tr style=\"text-align: right;\">\n      <th></th>\n      <th>image_id</th>\n      <th>width</th>\n      <th>height</th>\n      <th>source</th>\n      <th>x</th>\n      <th>y</th>\n      <th>w</th>\n      <th>h</th>\n    </tr>\n  </thead>\n  <tbody>\n    <tr>\n      <th>0</th>\n      <td>b6ab77fd7</td>\n      <td>1024</td>\n      <td>1024</td>\n      <td>usask_1</td>\n      <td>834.0</td>\n      <td>222.0</td>\n      <td>56.0</td>\n      <td>36.0</td>\n    </tr>\n    <tr>\n      <th>1</th>\n      <td>b6ab77fd7</td>\n      <td>1024</td>\n      <td>1024</td>\n      <td>usask_1</td>\n      <td>226.0</td>\n      <td>548.0</td>\n      <td>130.0</td>\n      <td>58.0</td>\n    </tr>\n    <tr>\n      <th>2</th>\n      <td>b6ab77fd7</td>\n      <td>1024</td>\n      <td>1024</td>\n      <td>usask_1</td>\n      <td>377.0</td>\n      <td>504.0</td>\n      <td>74.0</td>\n      <td>160.0</td>\n    </tr>\n    <tr>\n      <th>3</th>\n      <td>b6ab77fd7</td>\n      <td>1024</td>\n      <td>1024</td>\n      <td>usask_1</td>\n      <td>834.0</td>\n      <td>95.0</td>\n      <td>109.0</td>\n      <td>107.0</td>\n    </tr>\n    <tr>\n      <th>4</th>\n      <td>b6ab77fd7</td>\n      <td>1024</td>\n      <td>1024</td>\n      <td>usask_1</td>\n      <td>26.0</td>\n      <td>144.0</td>\n      <td>124.0</td>\n      <td>117.0</td>\n    </tr>\n  </tbody>\n</table>\n</div>",
      "text/plain": "    image_id  width  height   source      x      y      w      h\n0  b6ab77fd7   1024    1024  usask_1  834.0  222.0   56.0   36.0\n1  b6ab77fd7   1024    1024  usask_1  226.0  548.0  130.0   58.0\n2  b6ab77fd7   1024    1024  usask_1  377.0  504.0   74.0  160.0\n3  b6ab77fd7   1024    1024  usask_1  834.0   95.0  109.0  107.0\n4  b6ab77fd7   1024    1024  usask_1   26.0  144.0  124.0  117.0"
     },
     "metadata": {},
     "execution_count": 14
    }
   ],
   "source": [
    "NEW_COLUMNS = ['x', 'y', 'w', 'h']\n",
    "\n",
    "# separate the bboxes into new columns\n",
    "sep_bboxes = np.stack(train_df['bbox'].apply(lambda x: np.fromstring(x[1:-1], sep=',')))\n",
    "for i, new_column in enumerate(NEW_COLUMNS):\n",
    "    train_df[new_column] = sep_bboxes[:, i]\n",
    "train_df.drop(columns=['bbox'], inplace=True)\n",
    "\n",
    "train_df.head()"
   ]
  },
  {
   "cell_type": "code",
   "execution_count": 15,
   "metadata": {},
   "outputs": [
    {
     "output_type": "execute_result",
     "data": {
      "text/html": "<div>\n<style scoped>\n    .dataframe tbody tr th:only-of-type {\n        vertical-align: middle;\n    }\n\n    .dataframe tbody tr th {\n        vertical-align: top;\n    }\n\n    .dataframe thead th {\n        text-align: right;\n    }\n</style>\n<table border=\"1\" class=\"dataframe\">\n  <thead>\n    <tr style=\"text-align: right;\">\n      <th></th>\n      <th>image_id</th>\n      <th>width</th>\n      <th>height</th>\n      <th>source</th>\n      <th>x</th>\n      <th>y</th>\n      <th>w</th>\n      <th>h</th>\n    </tr>\n  </thead>\n  <tbody>\n    <tr>\n      <th>0</th>\n      <td>b6ab77fd7</td>\n      <td>1024</td>\n      <td>1024</td>\n      <td>usask_1</td>\n      <td>834.0</td>\n      <td>222.0</td>\n      <td>56.0</td>\n      <td>36.0</td>\n    </tr>\n    <tr>\n      <th>1</th>\n      <td>b6ab77fd7</td>\n      <td>1024</td>\n      <td>1024</td>\n      <td>usask_1</td>\n      <td>226.0</td>\n      <td>548.0</td>\n      <td>130.0</td>\n      <td>58.0</td>\n    </tr>\n    <tr>\n      <th>2</th>\n      <td>b6ab77fd7</td>\n      <td>1024</td>\n      <td>1024</td>\n      <td>usask_1</td>\n      <td>377.0</td>\n      <td>504.0</td>\n      <td>74.0</td>\n      <td>160.0</td>\n    </tr>\n    <tr>\n      <th>3</th>\n      <td>b6ab77fd7</td>\n      <td>1024</td>\n      <td>1024</td>\n      <td>usask_1</td>\n      <td>834.0</td>\n      <td>95.0</td>\n      <td>109.0</td>\n      <td>107.0</td>\n    </tr>\n    <tr>\n      <th>4</th>\n      <td>b6ab77fd7</td>\n      <td>1024</td>\n      <td>1024</td>\n      <td>usask_1</td>\n      <td>26.0</td>\n      <td>144.0</td>\n      <td>124.0</td>\n      <td>117.0</td>\n    </tr>\n  </tbody>\n</table>\n</div>",
      "text/plain": "    image_id  width  height   source      x      y      w      h\n0  b6ab77fd7   1024    1024  usask_1  834.0  222.0   56.0   36.0\n1  b6ab77fd7   1024    1024  usask_1  226.0  548.0  130.0   58.0\n2  b6ab77fd7   1024    1024  usask_1  377.0  504.0   74.0  160.0\n3  b6ab77fd7   1024    1024  usask_1  834.0   95.0  109.0  107.0\n4  b6ab77fd7   1024    1024  usask_1   26.0  144.0  124.0  117.0"
     },
     "metadata": {},
     "execution_count": 15
    }
   ],
   "source": [
    "fold = 0\n",
    "\n",
    "TRAIN_IDS = folds_df[folds_df['fold'] != fold]['image_id'].unique()\n",
    "VALIDATION_IDS = folds_df[folds_df['fold'] == fold]['image_id'].unique()\n",
    "\n",
    "training_df = train_df[train_df['image_id'].isin(TRAIN_IDS)]\n",
    "validation_df = train_df[train_df['image_id'].isin(VALIDATION_IDS)]\n",
    "\n",
    "training_df.head()"
   ]
  },
  {
   "cell_type": "code",
   "execution_count": 3,
   "metadata": {
    "tags": []
   },
   "outputs": [
    {
     "output_type": "stream",
     "name": "stdout",
     "text": "image_id  ...      h\n0  b6ab77fd7  ...   36.0\n1  b6ab77fd7  ...   58.0\n2  b6ab77fd7  ...  160.0\n3  b6ab77fd7  ...  107.0\n4  b6ab77fd7  ...  117.0\n\n[5 rows x 8 columns]\n/usr/local/lib/python3.6/dist-packages/sklearn/model_selection/_split.py:667: UserWarning: The least populated class in y has only 1 members, which is less than n_splits=5.\n  % (min_groups, self.n_splits)), UserWarning)\nCreated folds.csv with shape (3373, 4)\n"
    }
   ],
   "source": [
    "!python3 ../create_folds.py"
   ]
  },
  {
   "cell_type": "code",
   "execution_count": 43,
   "metadata": {},
   "outputs": [],
   "source": [
    "def create_instances_file(IDS, type=\"train\"):\n",
    "    out = {\n",
    "        \"info\": {\n",
    "            \"description\": \"\",\n",
    "            \"url\": \"\",\n",
    "            \"version\": \"\",\n",
    "            \"year\": 2020,\n",
    "            \"contributor\": \"\",\n",
    "            \"date_created\": \"\",\n",
    "        },\n",
    "        \"licenses\": [\n",
    "            {\n",
    "                \"id\": 1,\n",
    "                \"name\": None,\n",
    "                \"url\": None\n",
    "            }\n",
    "        ],\n",
    "        \"categories\": [\n",
    "            {\n",
    "                \"id\": 1,\n",
    "                \"name\": \"wheat\",\n",
    "                \"supercategory\": \"None\"\n",
    "            }\n",
    "        ],\n",
    "        \"images\": [],\n",
    "        \"annotations\": []\n",
    "    }\n",
    "\n",
    "    k = 0\n",
    "    for i, image_id in enumerate(IDS):    \n",
    "        out[\"images\"].append({\n",
    "            \"id\": i,\n",
    "            \"file_name\": f\"{image_id}.jpg\",\n",
    "            \"width\": 1024,\n",
    "            \"height\": 1024,\n",
    "            \"date_captured\": \"\",\n",
    "            \"license\": 1,\n",
    "            \"coco_url\": \"\",\n",
    "            \"flickr_url\": \"\"\n",
    "        })\n",
    "        \n",
    "        bboxes = train_df[train_df['image_id'] == image_id][NEW_COLUMNS].values\n",
    "        areas = bboxes[:, 2] * bboxes[:, 3]\n",
    "        for j, bbox in enumerate(bboxes):\n",
    "            out[\"annotations\"].append({\n",
    "                \"id\": k,\n",
    "                \"image_id\": i,\n",
    "                \"category_id\": 1,\n",
    "                \"iscrowd\": 0,\n",
    "                \"area\": areas[j],\n",
    "                \"bbox\": list(bbox),\n",
    "                \"segmentation\": []\n",
    "            })\n",
    "            k += 1\n",
    "\n",
    "    with open(f'instances_{type}.json', 'w') as f:\n",
    "        json.dump(out, f)"
   ]
  },
  {
   "cell_type": "code",
   "execution_count": 44,
   "metadata": {},
   "outputs": [],
   "source": [
    "create_instances_file(TRAIN_IDS, \"train\")\n",
    "create_instances_file(VALIDATION_IDS, \"val\")"
   ]
  },
  {
   "cell_type": "code",
   "execution_count": null,
   "metadata": {},
   "outputs": [],
   "source": []
  }
 ],
 "metadata": {
  "language_info": {
   "codemirror_mode": {
    "name": "ipython",
    "version": 3
   },
   "file_extension": ".py",
   "mimetype": "text/x-python",
   "name": "python",
   "nbconvert_exporter": "python",
   "pygments_lexer": "ipython3",
   "version": "3.6.9-final"
  },
  "orig_nbformat": 2,
  "kernelspec": {
   "name": "python3",
   "display_name": "Python 3"
  }
 },
 "nbformat": 4,
 "nbformat_minor": 2
}